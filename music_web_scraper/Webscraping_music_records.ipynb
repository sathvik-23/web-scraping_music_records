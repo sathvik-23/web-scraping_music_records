{
 "cells": [
  {
   "cell_type": "code",
   "execution_count": null,
   "id": "08c5dd28-56b0-4b11-a44a-522c55a8c74f",
   "metadata": {},
   "outputs": [],
   "source": [
    "import json\n",
    "\n"
   ]
  },
  {
   "cell_type": "code",
   "execution_count": null,
   "id": "99ca76e5-7e86-4e70-acd6-eedf01da54fc",
   "metadata": {},
   "outputs": [],
   "source": [
    "with open('autoassignment-417803-0ab2ac8e8aad.json') as f:\n",
    "  data = json.load(f)\n",
    "\n",
    "# Output: {'name': 'Bob', 'languages': ['English', 'Fench']}\n",
    "print(data)\n"
   ]
  },
  {
   "cell_type": "code",
   "execution_count": null,
   "id": "15c1b95b-e1a5-4420-a6fb-52b1b08583f9",
   "metadata": {},
   "outputs": [],
   "source": [
    "pip install gspread oauth2client\n"
   ]
  },
  {
   "cell_type": "code",
   "execution_count": null,
   "id": "b3f0f62f-2797-4f54-a313-460a0270b558",
   "metadata": {},
   "outputs": [],
   "source": [
    "\n",
    "\n",
    "\n",
    "import gspread\n",
    "from oauth2client.service_account import ServiceAccountCredentials\n",
    "\n",
    "\n",
    "# use creds to create a client to interact with the Google Drive API\n",
    "scope = ['https://spreadsheets.google.com/feeds','https://www.googleapis.com/auth/drive','https://www.googleapis.com/auth/drive.file','https://www.googleapis.com/auth/spreadsheets']\n",
    "creds = ServiceAccountCredentials.from_json_keyfile_name('autoassignment-417803-0ab2ac8e8aad.json', scope)\n",
    "client = gspread.authorize(creds)\n",
    "\n",
    "\n",
    "# Find a workbook by name and open the first sheet\n",
    "# Make sure you use the right name here.\n",
    "sheet = client.open(\"autoassignment\").sheet1\n",
    "spreadsheet_key = '1uyZlFs_DK4dYvgkgudHLoRpS9zM_1VYIvPTqOQoNXUk'\n",
    "\n",
    "\n",
    "\n",
    "\n",
    "\n"
   ]
  },
  {
   "cell_type": "code",
   "execution_count": null,
   "id": "df32e737-4bd5-41ad-a872-991f22ad4ece",
   "metadata": {},
   "outputs": [],
   "source": [
    "\n",
    "import bs4\n",
    "import urllib.request\n",
    "from urllib.request import urlopen \n",
    "from bs4 import BeautifulSoup as soup\n",
    "\n"
   ]
  },
  {
   "cell_type": "code",
   "execution_count": null,
   "id": "cf3fbd5c-7b9b-4724-bfa3-581f2fa6ae5c",
   "metadata": {},
   "outputs": [],
   "source": [
    "\n"
   ]
  },
  {
   "cell_type": "code",
   "execution_count": null,
   "id": "f44ebbab-45cc-489f-baac-3a7e9be5d2fc",
   "metadata": {},
   "outputs": [],
   "source": [
    "html = urlopen('https://en.wikipedia.org/wiki/List_of_largest_recorded_music_markets')\n",
    "bsobj = soup(html.read())\n",
    "tbody = bsobj('table',{'class':'wikitable plainrowheaders sortable'})[0].findAll('tr')\n",
    "xl = []\n",
    "for row in tbody:\n",
    "    cols = row.findChildren(recursive = False)\n",
    "    cols = [element.text.strip() for element in cols]\n",
    "    \n",
    "    xl.append(cols)\n",
    "    print(cols)\n"
   ]
  },
  {
   "cell_type": "code",
   "execution_count": null,
   "id": "b3f72d70-f90f-4bbe-a842-4b47412afd5b",
   "metadata": {},
   "outputs": [],
   "source": [
    "pip install df2gspread"
   ]
  },
  {
   "cell_type": "code",
   "execution_count": null,
   "id": "cd47aa3d-5fa5-4385-b9d2-7f5690b724b9",
   "metadata": {},
   "outputs": [],
   "source": [
    "\n",
    "from df2gspread import df2gspread as d2g\n",
    "wks_name = 'Sheet1'\n",
    "cell_of_start_df = 'A1'\n",
    "d2g.upload(df,\n",
    "           spreadsheet_key,\n",
    "           wks_name,\n",
    "           credentials=creds,\n",
    "           col_names=False,\n",
    "           row_names=False,\n",
    "           start_cell = cell_of_start_df,\n",
    "           clean=False)\n",
    "print ('The sheet is updated successfully')\n",
    "\n"
   ]
  },
  {
   "cell_type": "code",
   "execution_count": null,
   "id": "aff63e6c-285a-4b38-8afe-95e4adab35ae",
   "metadata": {},
   "outputs": [],
   "source": []
  },
  {
   "cell_type": "code",
   "execution_count": null,
   "id": "412a4409-e207-4809-8d96-af3f9dc97c91",
   "metadata": {},
   "outputs": [],
   "source": []
  },
  {
   "cell_type": "code",
   "execution_count": null,
   "id": "bd8e43d4-20f4-46c0-906a-77eced43c2c6",
   "metadata": {},
   "outputs": [],
   "source": []
  }
 ],
 "metadata": {
  "kernelspec": {
   "display_name": "Python 3 (ipykernel)",
   "language": "python",
   "name": "python3"
  },
  "language_info": {
   "codemirror_mode": {
    "name": "ipython",
    "version": 3
   },
   "file_extension": ".py",
   "mimetype": "text/x-python",
   "name": "python",
   "nbconvert_exporter": "python",
   "pygments_lexer": "ipython3",
   "version": "3.11.7"
  }
 },
 "nbformat": 4,
 "nbformat_minor": 5
}
